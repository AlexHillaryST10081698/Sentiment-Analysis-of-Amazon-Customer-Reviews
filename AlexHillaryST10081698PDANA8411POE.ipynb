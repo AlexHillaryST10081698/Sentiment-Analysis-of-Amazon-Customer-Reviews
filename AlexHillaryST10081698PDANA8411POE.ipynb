{
 "cells": [
  {
   "cell_type": "code",
   "execution_count": 98,
   "id": "1a2a3e25",
   "metadata": {},
   "outputs": [],
   "source": [
    "############################################################################################################################\n",
    "# The program is created and developed in juipter notebook by Alex Hillary(ST10081698)\n",
    "# The Dataset is called Reviews.csv and can be accessed: https://www.kaggle.com/datasets/bhavikardeshna/amazon-customerreviews-polarity?resource=download&select=test.csv\n",
    "# The Dataset is made of 3 columns (Review title, review content and review ID)\n",
    "# For Review ID 2 represents a good review and 1 represents a bad review\n",
    "# For Review Content is just a more in depth explanation of the review\n",
    "# The application was developed in Jupyter Notebook version 6.5.4\n",
    "\n",
    "#Imports \n",
    "# pandas is used for data manipulation and analysis\n",
    "import pandas as pd"
   ]
  },
  {
   "cell_type": "code",
   "execution_count": null,
   "id": "8da38be9",
   "metadata": {},
   "outputs": [],
   "source": []
  },
  {
   "cell_type": "code",
   "execution_count": 99,
   "id": "16438492",
   "metadata": {},
   "outputs": [
    {
     "data": {
      "text/html": [
       "<div>\n",
       "<style scoped>\n",
       "    .dataframe tbody tr th:only-of-type {\n",
       "        vertical-align: middle;\n",
       "    }\n",
       "\n",
       "    .dataframe tbody tr th {\n",
       "        vertical-align: top;\n",
       "    }\n",
       "\n",
       "    .dataframe thead th {\n",
       "        text-align: right;\n",
       "    }\n",
       "</style>\n",
       "<table border=\"1\" class=\"dataframe\">\n",
       "  <thead>\n",
       "    <tr style=\"text-align: right;\">\n",
       "      <th></th>\n",
       "      <th>Review ID</th>\n",
       "      <th>Review Title</th>\n",
       "      <th>Review Content</th>\n",
       "    </tr>\n",
       "  </thead>\n",
       "  <tbody>\n",
       "    <tr>\n",
       "      <th>0</th>\n",
       "      <td>2</td>\n",
       "      <td>Great CD</td>\n",
       "      <td>My lovely Pat has one of the GREAT voices of h...</td>\n",
       "    </tr>\n",
       "    <tr>\n",
       "      <th>1</th>\n",
       "      <td>2</td>\n",
       "      <td>One of the best game music soundtracks - for a...</td>\n",
       "      <td>Despite the fact that I have only played a sma...</td>\n",
       "    </tr>\n",
       "    <tr>\n",
       "      <th>2</th>\n",
       "      <td>1</td>\n",
       "      <td>Batteries died within a year ...</td>\n",
       "      <td>I bought this charger in Jul 2003 and it worke...</td>\n",
       "    </tr>\n",
       "    <tr>\n",
       "      <th>3</th>\n",
       "      <td>2</td>\n",
       "      <td>works fine, but Maha Energy is better</td>\n",
       "      <td>Check out Maha Energy's website. Their Powerex...</td>\n",
       "    </tr>\n",
       "    <tr>\n",
       "      <th>4</th>\n",
       "      <td>2</td>\n",
       "      <td>Great for the non-audiophile</td>\n",
       "      <td>Reviewed quite a bit of the combo players and ...</td>\n",
       "    </tr>\n",
       "  </tbody>\n",
       "</table>\n",
       "</div>"
      ],
      "text/plain": [
       "   Review ID                                       Review Title  \\\n",
       "0          2                                           Great CD   \n",
       "1          2  One of the best game music soundtracks - for a...   \n",
       "2          1                   Batteries died within a year ...   \n",
       "3          2              works fine, but Maha Energy is better   \n",
       "4          2                       Great for the non-audiophile   \n",
       "\n",
       "                                      Review Content  \n",
       "0  My lovely Pat has one of the GREAT voices of h...  \n",
       "1  Despite the fact that I have only played a sma...  \n",
       "2  I bought this charger in Jul 2003 and it worke...  \n",
       "3  Check out Maha Energy's website. Their Powerex...  \n",
       "4  Reviewed quite a bit of the combo players and ...  "
      ]
     },
     "execution_count": 99,
     "metadata": {},
     "output_type": "execute_result"
    }
   ],
   "source": [
    "# Define column names\n",
    "column_names = [\"Review ID\", \"Review Title\", \"Review Content\"]\n",
    "#loads the data from excel into a dataframe \n",
    "df = pd.read_csv('Reviews.csv', header=None, names=column_names)\n",
    "df.head()"
   ]
  },
  {
   "cell_type": "code",
   "execution_count": 100,
   "id": "6deeff4b",
   "metadata": {},
   "outputs": [
    {
     "name": "stdout",
     "output_type": "stream",
     "text": [
      "Shape The DataSet  (400000, 3)\n"
     ]
    }
   ],
   "source": [
    " #print the shape dataset to see how many rows and columns there are\n",
    "    \n",
    "print(\"Shape The DataSet \", df.shape )"
   ]
  },
  {
   "cell_type": "code",
   "execution_count": 101,
   "id": "61cbcfcc",
   "metadata": {},
   "outputs": [
    {
     "name": "stdout",
     "output_type": "stream",
     "text": [
      "<class 'pandas.core.frame.DataFrame'>\n",
      "RangeIndex: 400000 entries, 0 to 399999\n",
      "Data columns (total 3 columns):\n",
      " #   Column          Non-Null Count   Dtype \n",
      "---  ------          --------------   ----- \n",
      " 0   Review ID       400000 non-null  int64 \n",
      " 1   Review Title    399976 non-null  object\n",
      " 2   Review Content  400000 non-null  object\n",
      "dtypes: int64(1), object(2)\n",
      "memory usage: 9.2+ MB\n"
     ]
    }
   ],
   "source": [
    "#Checking the datatypes of all the columns\n",
    "\n",
    "df.info()"
   ]
  },
  {
   "cell_type": "code",
   "execution_count": 102,
   "id": "2fd46d4a",
   "metadata": {},
   "outputs": [
    {
     "name": "stdout",
     "output_type": "stream",
     "text": [
      "\n",
      "Missing values in the dataset:\n",
      "Review ID          0\n",
      "Review Title      24\n",
      "Review Content     0\n",
      "dtype: int64\n"
     ]
    }
   ],
   "source": [
    "# Check for missing values\n",
    "print(\"\\nMissing values in the dataset:\")\n",
    "print(df.isnull().sum())"
   ]
  },
  {
   "cell_type": "code",
   "execution_count": 103,
   "id": "90f2e94f",
   "metadata": {},
   "outputs": [],
   "source": [
    "# Since the dataset is quite large i have decided to drop the 24 rows\n",
    "# Drop rows with missing values in 'Review Title'\n",
    "df = df.dropna(subset=['Review Title'])\n"
   ]
  },
  {
   "cell_type": "code",
   "execution_count": 104,
   "id": "096480a0",
   "metadata": {},
   "outputs": [
    {
     "data": {
      "text/html": [
       "<div>\n",
       "<style scoped>\n",
       "    .dataframe tbody tr th:only-of-type {\n",
       "        vertical-align: middle;\n",
       "    }\n",
       "\n",
       "    .dataframe tbody tr th {\n",
       "        vertical-align: top;\n",
       "    }\n",
       "\n",
       "    .dataframe thead th {\n",
       "        text-align: right;\n",
       "    }\n",
       "</style>\n",
       "<table border=\"1\" class=\"dataframe\">\n",
       "  <thead>\n",
       "    <tr style=\"text-align: right;\">\n",
       "      <th></th>\n",
       "      <th>Review ID</th>\n",
       "      <th>Review Title</th>\n",
       "      <th>Review Content</th>\n",
       "    </tr>\n",
       "  </thead>\n",
       "  <tbody>\n",
       "    <tr>\n",
       "      <th>0</th>\n",
       "      <td>2</td>\n",
       "      <td>Great CD</td>\n",
       "      <td>My lovely Pat has one of the GREAT voices of h...</td>\n",
       "    </tr>\n",
       "    <tr>\n",
       "      <th>1</th>\n",
       "      <td>2</td>\n",
       "      <td>One of the best game music soundtracks - for a...</td>\n",
       "      <td>Despite the fact that I have only played a sma...</td>\n",
       "    </tr>\n",
       "    <tr>\n",
       "      <th>2</th>\n",
       "      <td>1</td>\n",
       "      <td>Batteries died within a year ...</td>\n",
       "      <td>I bought this charger in Jul 2003 and it worke...</td>\n",
       "    </tr>\n",
       "    <tr>\n",
       "      <th>3</th>\n",
       "      <td>2</td>\n",
       "      <td>works fine, but Maha Energy is better</td>\n",
       "      <td>Check out Maha Energy's website. Their Powerex...</td>\n",
       "    </tr>\n",
       "    <tr>\n",
       "      <th>4</th>\n",
       "      <td>2</td>\n",
       "      <td>Great for the non-audiophile</td>\n",
       "      <td>Reviewed quite a bit of the combo players and ...</td>\n",
       "    </tr>\n",
       "  </tbody>\n",
       "</table>\n",
       "</div>"
      ],
      "text/plain": [
       "   Review ID                                       Review Title  \\\n",
       "0          2                                           Great CD   \n",
       "1          2  One of the best game music soundtracks - for a...   \n",
       "2          1                   Batteries died within a year ...   \n",
       "3          2              works fine, but Maha Energy is better   \n",
       "4          2                       Great for the non-audiophile   \n",
       "\n",
       "                                      Review Content  \n",
       "0  My lovely Pat has one of the GREAT voices of h...  \n",
       "1  Despite the fact that I have only played a sma...  \n",
       "2  I bought this charger in Jul 2003 and it worke...  \n",
       "3  Check out Maha Energy's website. Their Powerex...  \n",
       "4  Reviewed quite a bit of the combo players and ...  "
      ]
     },
     "execution_count": 104,
     "metadata": {},
     "output_type": "execute_result"
    }
   ],
   "source": [
    "df.head()"
   ]
  },
  {
   "cell_type": "code",
   "execution_count": 105,
   "id": "a9ecd208",
   "metadata": {},
   "outputs": [
    {
     "name": "stdout",
     "output_type": "stream",
     "text": [
      "\n",
      "Missing values in the dataset:\n",
      "Review ID         0\n",
      "Review Title      0\n",
      "Review Content    0\n",
      "dtype: int64\n"
     ]
    }
   ],
   "source": [
    "# Check for missing values\n",
    "print(\"\\nMissing values in the dataset:\")\n",
    "print(df.isnull().sum())"
   ]
  },
  {
   "cell_type": "code",
   "execution_count": 106,
   "id": "82593a20",
   "metadata": {},
   "outputs": [],
   "source": [
    "# ok now that the datsframe has no missing values i will proceed with cleaning the text data \n",
    "# The cleaning if the text data will involve removing of any extra white spaces, converting text to lowercase for uniformity,\n",
    "# removing numbers, punctuation and etc\n",
    "# Import necessary libraries for text preprocessing\n",
    "import re\n",
    "import string\n",
    "\n",
    "# Function to clean text data\n",
    "def clean_text(text):\n",
    "    text = text.lower()  # Convert to lowercase\n",
    "    text = re.sub(r'\\d+', '', text)  # Remove numbers\n",
    "    text = text.translate(str.maketrans('', '', string.punctuation))  # Remove punctuation\n",
    "    text = text.strip()  # Remove whitespace\n",
    "    text = re.sub(r'\\s+', ' ', text)  # Remove extra whitespace\n",
    "    return text\n",
    "\n",
    "# Aplying the clean_text function to the 'Review Content' column as a new column in the dataframe as im unsure if i should drop Review Title \n",
    "# As i may need it for additional analysis later on\n",
    "df['Cleaned Review Content'] = df['Review Content'].apply(clean_text)"
   ]
  },
  {
   "cell_type": "code",
   "execution_count": 107,
   "id": "5ac3bbc3",
   "metadata": {},
   "outputs": [
    {
     "name": "stdout",
     "output_type": "stream",
     "text": [
      "First few rows of the dataset with cleaned text:\n",
      "                                      Review Content  \\\n",
      "0  My lovely Pat has one of the GREAT voices of h...   \n",
      "1  Despite the fact that I have only played a sma...   \n",
      "2  I bought this charger in Jul 2003 and it worke...   \n",
      "3  Check out Maha Energy's website. Their Powerex...   \n",
      "4  Reviewed quite a bit of the combo players and ...   \n",
      "\n",
      "                              Cleaned Review Content  \n",
      "0  my lovely pat has one of the great voices of h...  \n",
      "1  despite the fact that i have only played a sma...  \n",
      "2  i bought this charger in jul and it worked ok ...  \n",
      "3  check out maha energys website their powerex m...  \n",
      "4  reviewed quite a bit of the combo players and ...  \n"
     ]
    }
   ],
   "source": [
    "# Display the first few rows to see the cleaned text\n",
    "print(\"First few rows of the dataset with cleaned text:\")\n",
    "print(df[['Review Content', 'Cleaned Review Content']].head())"
   ]
  },
  {
   "cell_type": "code",
   "execution_count": 108,
   "id": "a4d09f0d",
   "metadata": {},
   "outputs": [],
   "source": [
    "# Now that the text has been cleaned i will move on to convert the cleaned text data into numerical features using TF-IDF"
   ]
  },
  {
   "cell_type": "code",
   "execution_count": 109,
   "id": "bf1553fb",
   "metadata": {},
   "outputs": [],
   "source": [
    "from sklearn.feature_extraction.text import TfidfVectorizer\n",
    "from sklearn.model_selection import train_test_split\n",
    "from sklearn.pipeline import Pipeline\n",
    "from sklearn.metrics import accuracy_score, classification_report"
   ]
  },
  {
   "cell_type": "code",
   "execution_count": 110,
   "id": "af8fed97",
   "metadata": {},
   "outputs": [],
   "source": [
    "collection_CD = df['Cleaned Review Content'].tolist()  # Collection of cleaned review texts\n",
    "target = (df['Review ID'] == 2).astype(int)  # Binary target: 1 for positive (Review ID = 2), 0 for negative (Review ID = 1)\n",
    "\n",
    "# Split data into training and testing sets\n",
    "X_train, X_test, y_train, y_test = train_test_split(collection_CD, target, test_size=0.2, random_state=42)\n"
   ]
  },
  {
   "cell_type": "code",
   "execution_count": 111,
   "id": "3dba4e21",
   "metadata": {},
   "outputs": [],
   "source": [
    "# Split data into training and testing sets\n",
    "X_train, X_test, y_train, y_test = train_test_split(collection_CD, target, test_size=0.2, random_state=42)"
   ]
  },
  {
   "cell_type": "code",
   "execution_count": 112,
   "id": "6403fe4c",
   "metadata": {},
   "outputs": [],
   "source": [
    "# Initialize TF-IDF Vectorizer\n",
    "tfidf_vectorizer = TfidfVectorizer(max_features=5000)  "
   ]
  },
  {
   "cell_type": "code",
   "execution_count": 113,
   "id": "9c3bf522",
   "metadata": {},
   "outputs": [],
   "source": [
    "# I decided to go with Logistic Regression as the model for evaluation as it ss straightforward to implement, interpretable\n",
    "# and and works well with binary classification tasks like sentiment analysis\n",
    "from sklearn.linear_model import LogisticRegression\n",
    "# Initialize Logistic Regression classifier\n",
    "classifier = LogisticRegression(max_iter=1000)"
   ]
  },
  {
   "cell_type": "code",
   "execution_count": 114,
   "id": "27c1d915",
   "metadata": {},
   "outputs": [],
   "source": [
    "# Created a pipeline with TF-IDF vectorization and classifier\n",
    "pipeline = Pipeline([\n",
    "    ('tfidf', tfidf_vectorizer), # Step 1\n",
    "    ('clf', classifier) # Step 2\n",
    "])"
   ]
  },
  {
   "cell_type": "code",
   "execution_count": 115,
   "id": "44e69074",
   "metadata": {},
   "outputs": [],
   "source": [
    "# Train the model\n",
    "pipeline.fit(X_train, y_train)\n",
    "\n",
    "# Predict on the test set\n",
    "y_pred = pipeline.predict(X_test)"
   ]
  },
  {
   "cell_type": "code",
   "execution_count": 116,
   "id": "508e65af",
   "metadata": {},
   "outputs": [
    {
     "name": "stdout",
     "output_type": "stream",
     "text": [
      "Accuracy: 0.87\n",
      "              precision    recall  f1-score   support\n",
      "\n",
      "           0       0.87      0.87      0.87     40010\n",
      "           1       0.87      0.87      0.87     39986\n",
      "\n",
      "    accuracy                           0.87     79996\n",
      "   macro avg       0.87      0.87      0.87     79996\n",
      "weighted avg       0.87      0.87      0.87     79996\n",
      "\n"
     ]
    }
   ],
   "source": [
    "# Evaluate the model\n",
    "accuracy = accuracy_score(y_test, y_pred)\n",
    "print(f\"Accuracy: {accuracy:.2f}\")\n",
    "\n",
    "# Print classification report for detailed evaluation\n",
    "print(classification_report(y_test, y_pred))"
   ]
  },
  {
   "cell_type": "code",
   "execution_count": 117,
   "id": "cae47191",
   "metadata": {},
   "outputs": [
    {
     "data": {
      "image/png": "[encoded data removed]",
      "text/plain": [
       "<Figure size 640x480 with 2 Axes>"
      ]
     },
     "metadata": {},
     "output_type": "display_data"
    }
   ],
   "source": [
    "# matplotlib and seaborn are used for plotting and visualization\n",
    "import matplotlib.pyplot as plt\n",
    "from sklearn.metrics import confusion_matrix, ConfusionMatrixDisplay\n",
    "\n",
    "# Generate confusion matrix\n",
    "cm = confusion_matrix(y_test, y_pred, labels=[0, 1])\n",
    "\n",
    "# Display confusion matrix\n",
    "disp = ConfusionMatrixDisplay(confusion_matrix=cm, display_labels=['Negative', 'Positive'])\n",
    "disp.plot()\n",
    "plt.title(\"Confusion Matrix\")\n",
    "plt.show()\n"
   ]
  },
  {
   "cell_type": "code",
   "execution_count": 118,
   "id": "705aab03",
   "metadata": {},
   "outputs": [],
   "source": [
    "# Based on the graph i can see 34866 as the true negatives that correctly predicted as negative by the model\n",
    "# The 34899 as the true positives that correctly predicted as positive by the model\n",
    "# And 5087 (negative) and 5144 (positive) as incorrectly predicted "
   ]
  },
  {
   "cell_type": "code",
   "execution_count": 119,
   "id": "086218f1",
   "metadata": {},
   "outputs": [],
   "source": [
    "from sklearn.metrics import roc_curve, roc_auc_score\n",
    "\n",
    "# Compute predicted probabilities\n",
    "y_prob = pipeline.predict_proba(X_test)[:, 1]\n",
    "\n",
    "# Compute ROC curve\n",
    "fpr, tpr, thresholds = roc_curve(y_test, y_prob)\n",
    "\n",
    "# Compute AUC\n",
    "roc_auc = roc_auc_score(y_test, y_prob)"
   ]
  },
  {
   "cell_type": "code",
   "execution_count": 120,
   "id": "a7c4ae6c",
   "metadata": {},
   "outputs": [
    {
     "data": {
      "image/png": "[encoded data removed]",
      "text/plain": [
       "<Figure size 640x480 with 1 Axes>"
      ]
     },
     "metadata": {},
     "output_type": "display_data"
    }
   ],
   "source": [
    "# Plot ROC curve\n",
    "plt.figure()\n",
    "plt.plot(fpr, tpr, color='darkorange', lw=2, label=f'ROC curve (area = {roc_auc:.2f})')\n",
    "plt.plot([0, 1], [0, 1], color='navy', lw=2, linestyle='--')\n",
    "plt.xlim([0.0, 1.0])\n",
    "plt.ylim([0.0, 1.05])\n",
    "plt.xlabel('False Positive Rate')\n",
    "plt.ylabel('True Positive Rate')\n",
    "plt.title('Receiver Operating Characteristic (ROC) Curve')\n",
    "plt.legend(loc=\"lower right\")\n",
    "plt.show()"
   ]
  },
  {
   "cell_type": "code",
   "execution_count": 121,
   "id": "20cfa941",
   "metadata": {},
   "outputs": [],
   "source": [
    "# BAsed on the graph i can see that the model is highly able to distinguish between positive and negative reviews"
   ]
  },
  {
   "cell_type": "code",
   "execution_count": 122,
   "id": "b5031e0f",
   "metadata": {},
   "outputs": [],
   "source": [
    "# Im going to implement Lemmatization to reduces words(Cleaned Review Content) to their base or dictionary form\n",
    "# to see if it will improve the model"
   ]
  },
  {
   "cell_type": "code",
   "execution_count": 123,
   "id": "d524fd59",
   "metadata": {},
   "outputs": [
    {
     "name": "stderr",
     "output_type": "stream",
     "text": [
      "[nltk_data] Downloading package punkt to\n",
      "[nltk_data]     C:\\Users\\alexl\\AppData\\Roaming\\nltk_data...\n",
      "[nltk_data]   Package punkt is already up-to-date!\n",
      "[nltk_data] Downloading package wordnet to\n",
      "[nltk_data]     C:\\Users\\alexl\\AppData\\Roaming\\nltk_data...\n",
      "[nltk_data]   Package wordnet is already up-to-date!\n"
     ]
    }
   ],
   "source": [
    "import nltk\n",
    "from nltk.tokenize import word_tokenize\n",
    "from nltk.stem import WordNetLemmatizer\n",
    "nltk.download('punkt') # used by for tokenizing sentences and words\n",
    "nltk.download('wordnet') # lexical database.essetialy is just a database of words which i will use to perform lemmatization  \n",
    "\n",
    "# Initialize the lemmatizer\n",
    "lemmatizer = WordNetLemmatizer()"
   ]
  },
  {
   "cell_type": "code",
   "execution_count": 124,
   "id": "f5e4d58f",
   "metadata": {},
   "outputs": [],
   "source": [
    "# The lemmatize_text function takes a string of text and the tokenizes it into individual words, \n",
    "# where each word is changed to its base form and then joins the words (lemitized) back into a single string. \n",
    "\n",
    "# The function to lemmatize text\n",
    "def lemmatize_text(text):\n",
    "    tokens = word_tokenize(text)\n",
    "    lemmatized_tokens = [lemmatizer.lemmatize(token) for token in tokens]\n",
    "    return ' '.join(lemmatized_tokens)\n",
    "\n",
    "# I am applying the function to the cleaned review content and will be a new column in the dataframe\n",
    "df['Lemmatized Review Content'] = df['Cleaned Review Content'].apply(lemmatize_text)"
   ]
  },
  {
   "cell_type": "code",
   "execution_count": 125,
   "id": "55f15ef8",
   "metadata": {},
   "outputs": [
    {
     "data": {
      "text/html": [
       "<div>\n",
       "<style scoped>\n",
       "    .dataframe tbody tr th:only-of-type {\n",
       "        vertical-align: middle;\n",
       "    }\n",
       "\n",
       "    .dataframe tbody tr th {\n",
       "        vertical-align: top;\n",
       "    }\n",
       "\n",
       "    .dataframe thead th {\n",
       "        text-align: right;\n",
       "    }\n",
       "</style>\n",
       "<table border=\"1\" class=\"dataframe\">\n",
       "  <thead>\n",
       "    <tr style=\"text-align: right;\">\n",
       "      <th></th>\n",
       "      <th>Review ID</th>\n",
       "      <th>Review Title</th>\n",
       "      <th>Review Content</th>\n",
       "      <th>Cleaned Review Content</th>\n",
       "      <th>Lemmatized Review Content</th>\n",
       "    </tr>\n",
       "  </thead>\n",
       "  <tbody>\n",
       "    <tr>\n",
       "      <th>0</th>\n",
       "      <td>2</td>\n",
       "      <td>Great CD</td>\n",
       "      <td>My lovely Pat has one of the GREAT voices of h...</td>\n",
       "      <td>my lovely pat has one of the great voices of h...</td>\n",
       "      <td>my lovely pat ha one of the great voice of her...</td>\n",
       "    </tr>\n",
       "    <tr>\n",
       "      <th>1</th>\n",
       "      <td>2</td>\n",
       "      <td>One of the best game music soundtracks - for a...</td>\n",
       "      <td>Despite the fact that I have only played a sma...</td>\n",
       "      <td>despite the fact that i have only played a sma...</td>\n",
       "      <td>despite the fact that i have only played a sma...</td>\n",
       "    </tr>\n",
       "    <tr>\n",
       "      <th>2</th>\n",
       "      <td>1</td>\n",
       "      <td>Batteries died within a year ...</td>\n",
       "      <td>I bought this charger in Jul 2003 and it worke...</td>\n",
       "      <td>i bought this charger in jul and it worked ok ...</td>\n",
       "      <td>i bought this charger in jul and it worked ok ...</td>\n",
       "    </tr>\n",
       "    <tr>\n",
       "      <th>3</th>\n",
       "      <td>2</td>\n",
       "      <td>works fine, but Maha Energy is better</td>\n",
       "      <td>Check out Maha Energy's website. Their Powerex...</td>\n",
       "      <td>check out maha energys website their powerex m...</td>\n",
       "      <td>check out maha energy website their powerex mh...</td>\n",
       "    </tr>\n",
       "    <tr>\n",
       "      <th>4</th>\n",
       "      <td>2</td>\n",
       "      <td>Great for the non-audiophile</td>\n",
       "      <td>Reviewed quite a bit of the combo players and ...</td>\n",
       "      <td>reviewed quite a bit of the combo players and ...</td>\n",
       "      <td>reviewed quite a bit of the combo player and w...</td>\n",
       "    </tr>\n",
       "  </tbody>\n",
       "</table>\n",
       "</div>"
      ],
      "text/plain": [
       "   Review ID                                       Review Title  \\\n",
       "0          2                                           Great CD   \n",
       "1          2  One of the best game music soundtracks - for a...   \n",
       "2          1                   Batteries died within a year ...   \n",
       "3          2              works fine, but Maha Energy is better   \n",
       "4          2                       Great for the non-audiophile   \n",
       "\n",
       "                                      Review Content  \\\n",
       "0  My lovely Pat has one of the GREAT voices of h...   \n",
       "1  Despite the fact that I have only played a sma...   \n",
       "2  I bought this charger in Jul 2003 and it worke...   \n",
       "3  Check out Maha Energy's website. Their Powerex...   \n",
       "4  Reviewed quite a bit of the combo players and ...   \n",
       "\n",
       "                              Cleaned Review Content  \\\n",
       "0  my lovely pat has one of the great voices of h...   \n",
       "1  despite the fact that i have only played a sma...   \n",
       "2  i bought this charger in jul and it worked ok ...   \n",
       "3  check out maha energys website their powerex m...   \n",
       "4  reviewed quite a bit of the combo players and ...   \n",
       "\n",
       "                           Lemmatized Review Content  \n",
       "0  my lovely pat ha one of the great voice of her...  \n",
       "1  despite the fact that i have only played a sma...  \n",
       "2  i bought this charger in jul and it worked ok ...  \n",
       "3  check out maha energy website their powerex mh...  \n",
       "4  reviewed quite a bit of the combo player and w...  "
      ]
     },
     "execution_count": 125,
     "metadata": {},
     "output_type": "execute_result"
    }
   ],
   "source": [
    "df.head()"
   ]
  },
  {
   "cell_type": "code",
   "execution_count": 126,
   "id": "0d807ef6",
   "metadata": {},
   "outputs": [],
   "source": [
    "# ok now I will try re-training the model using the lemmatized text data"
   ]
  },
  {
   "cell_type": "code",
   "execution_count": 127,
   "id": "fef79884",
   "metadata": {},
   "outputs": [],
   "source": [
    "# Convert the lemmatized text data to TF-IDF features whereas previsoulsy i done it on the cleaned text data\n",
    "tfidf_vectorizer = TfidfVectorizer(max_features=5000)\n",
    "X_lemmatized = tfidf_vectorizer.fit_transform(df['Lemmatized Review Content'])\n",
    "\n",
    "# Target variable\n",
    "y = (df['Review ID'] == 2).astype(int)  # Binary target: 1 for positive (Review ID = 2), 0 for negative (Review ID = 1)"
   ]
  },
  {
   "cell_type": "code",
   "execution_count": 128,
   "id": "7a318e06",
   "metadata": {},
   "outputs": [],
   "source": [
    "# Split the data\n",
    "X_train, X_test, y_train, y_test = train_test_split(X_lemmatized, y, test_size=0.2, random_state=42)"
   ]
  },
  {
   "cell_type": "code",
   "execution_count": 129,
   "id": "87525e19",
   "metadata": {},
   "outputs": [],
   "source": [
    "# Define the pipeline with TF-IDF and Logistic Regression\n",
    "pipeline = Pipeline([\n",
    "    ('tfidf', TfidfVectorizer(max_features=5000)),\n",
    "    ('clf', LogisticRegression(max_iter=1000))\n",
    "])\n"
   ]
  },
  {
   "cell_type": "code",
   "execution_count": 130,
   "id": "aeb86400",
   "metadata": {},
   "outputs": [],
   "source": [
    "# Split the data\n",
    "X_train, X_test, y_train, y_test = train_test_split(df['Lemmatized Review Content'], y, test_size=0.2, random_state=42)"
   ]
  },
  {
   "cell_type": "code",
   "execution_count": 131,
   "id": "2db773be",
   "metadata": {},
   "outputs": [],
   "source": [
    "\n",
    "# Train the model\n",
    "pipeline.fit(X_train, y_train)\n",
    "\n",
    "# Make predictions\n",
    "y_pred = pipeline.predict(X_test)\n",
    "y_prob = pipeline.predict_proba(X_test)[:, 1]"
   ]
  },
  {
   "cell_type": "code",
   "execution_count": 132,
   "id": "e9e63915",
   "metadata": {},
   "outputs": [
    {
     "name": "stdout",
     "output_type": "stream",
     "text": [
      "Accuracy: 0.8705435271763589\n",
      "              precision    recall  f1-score   support\n",
      "\n",
      "           0       0.87      0.87      0.87     40010\n",
      "           1       0.87      0.87      0.87     39986\n",
      "\n",
      "    accuracy                           0.87     79996\n",
      "   macro avg       0.87      0.87      0.87     79996\n",
      "weighted avg       0.87      0.87      0.87     79996\n",
      "\n",
      "Confusion Matrix:\n",
      "[[34810  5200]\n",
      " [ 5156 34830]]\n"
     ]
    }
   ],
   "source": [
    "# Evaluate the model\n",
    "print(\"Accuracy:\", accuracy_score(y_test, y_pred))\n",
    "print(classification_report(y_test, y_pred))\n",
    "\n",
    "# Confusion Matrix\n",
    "conf_matrix = confusion_matrix(y_test, y_pred)\n",
    "print(\"Confusion Matrix:\")\n",
    "print(conf_matrix)"
   ]
  },
  {
   "cell_type": "code",
   "execution_count": 133,
   "id": "0e48762a",
   "metadata": {},
   "outputs": [],
   "source": [
    "# Based on those accrucary scores. its basically the exact same accuracy compaired to when the model was just trained on the \n",
    "# Cleaned Reviewed Content. I guess maybe most of the text was already in their base form so that could be why the model's\n",
    "# performance was not significantly impacted\n",
    "# Im now going to try different models to evaluate the performance"
   ]
  },
  {
   "cell_type": "code",
   "execution_count": 134,
   "id": "3afebfd4",
   "metadata": {},
   "outputs": [],
   "source": [
    "# Im now going to see how SVM performs\n",
    "# i tried svm but was taking to long to run so decided to go with LinearSV as it is alternatively less strenuous on my laptop\n",
    "\n",
    "from sklearn.svm import LinearSVC\n",
    "\n",
    "# Split the data\n",
    "X_train, X_test, y_train, y_test = train_test_split(df['Lemmatized Review Content'], (df['Review ID'] == 2).astype(int), test_size=0.2, random_state=42)\n",
    "\n",
    "# The vectorizer and the LinearSVC classifier\n",
    "vectorizer = TfidfVectorizer(ngram_range=(1, 2))  # Unigrams and bigrams\n",
    "linear_svc = LinearSVC()"
   ]
  },
  {
   "cell_type": "code",
   "execution_count": 135,
   "id": "f08738b9",
   "metadata": {},
   "outputs": [
    {
     "name": "stderr",
     "output_type": "stream",
     "text": [
      "C:\\Users\\alexl\\anaconda3\\Lib\\site-packages\\sklearn\\svm\\_classes.py:32: FutureWarning: The default value of `dual` will change from `True` to `'auto'` in 1.5. Set the value of `dual` explicitly to suppress the warning.\n",
      "  warnings.warn(\n"
     ]
    },
    {
     "data": {
      "text/html": [
       "<style>#sk-container-id-3 {color: black;}#sk-container-id-3 pre{padding: 0;}#sk-container-id-3 div.sk-toggleable {background-color: white;}#sk-container-id-3 label.sk-toggleable__label {cursor: pointer;display: block;width: 100%;margin-bottom: 0;padding: 0.3em;box-sizing: border-box;text-align: center;}#sk-container-id-3 label.sk-toggleable__label-arrow:before {content: \"▸\";float: left;margin-right: 0.25em;color: #696969;}#sk-container-id-3 label.sk-toggleable__label-arrow:hover:before {color: black;}#sk-container-id-3 div.sk-estimator:hover label.sk-toggleable__label-arrow:before {color: black;}#sk-container-id-3 div.sk-toggleable__content {max-height: 0;max-width: 0;overflow: hidden;text-align: left;background-color: #f0f8ff;}#sk-container-id-3 div.sk-toggleable__content pre {margin: 0.2em;color: black;border-radius: 0.25em;background-color: #f0f8ff;}#sk-container-id-3 input.sk-toggleable__control:checked~div.sk-toggleable__content {max-height: 200px;max-width: 100%;overflow: auto;}#sk-container-id-3 input.sk-toggleable__control:checked~label.sk-toggleable__label-arrow:before {content: \"▾\";}#sk-container-id-3 div.sk-estimator input.sk-toggleable__control:checked~label.sk-toggleable__label {background-color: #d4ebff;}#sk-container-id-3 div.sk-label input.sk-toggleable__control:checked~label.sk-toggleable__label {background-color: #d4ebff;}#sk-container-id-3 input.sk-hidden--visually {border: 0;clip: rect(1px 1px 1px 1px);clip: rect(1px, 1px, 1px, 1px);height: 1px;margin: -1px;overflow: hidden;padding: 0;position: absolute;width: 1px;}#sk-container-id-3 div.sk-estimator {font-family: monospace;background-color: #f0f8ff;border: 1px dotted black;border-radius: 0.25em;box-sizing: border-box;margin-bottom: 0.5em;}#sk-container-id-3 div.sk-estimator:hover {background-color: #d4ebff;}#sk-container-id-3 div.sk-parallel-item::after {content: \"\";width: 100%;border-bottom: 1px solid gray;flex-grow: 1;}#sk-container-id-3 div.sk-label:hover label.sk-toggleable__label {background-color: #d4ebff;}#sk-container-id-3 div.sk-serial::before {content: \"\";position: absolute;border-left: 1px solid gray;box-sizing: border-box;top: 0;bottom: 0;left: 50%;z-index: 0;}#sk-container-id-3 div.sk-serial {display: flex;flex-direction: column;align-items: center;background-color: white;padding-right: 0.2em;padding-left: 0.2em;position: relative;}#sk-container-id-3 div.sk-item {position: relative;z-index: 1;}#sk-container-id-3 div.sk-parallel {display: flex;align-items: stretch;justify-content: center;background-color: white;position: relative;}#sk-container-id-3 div.sk-item::before, #sk-container-id-3 div.sk-parallel-item::before {content: \"\";position: absolute;border-left: 1px solid gray;box-sizing: border-box;top: 0;bottom: 0;left: 50%;z-index: -1;}#sk-container-id-3 div.sk-parallel-item {display: flex;flex-direction: column;z-index: 1;position: relative;background-color: white;}#sk-container-id-3 div.sk-parallel-item:first-child::after {align-self: flex-end;width: 50%;}#sk-container-id-3 div.sk-parallel-item:last-child::after {align-self: flex-start;width: 50%;}#sk-container-id-3 div.sk-parallel-item:only-child::after {width: 0;}#sk-container-id-3 div.sk-dashed-wrapped {border: 1px dashed gray;margin: 0 0.4em 0.5em 0.4em;box-sizing: border-box;padding-bottom: 0.4em;background-color: white;}#sk-container-id-3 div.sk-label label {font-family: monospace;font-weight: bold;display: inline-block;line-height: 1.2em;}#sk-container-id-3 div.sk-label-container {text-align: center;}#sk-container-id-3 div.sk-container {/* jupyter's `normalize.less` sets `[hidden] { display: none; }` but bootstrap.min.css set `[hidden] { display: none !important; }` so we also need the `!important` here to be able to override the default hidden behavior on the sphinx rendered scikit-learn.org. See: https://github.com/scikit-learn/scikit-learn/issues/21755 */display: inline-block !important;position: relative;}#sk-container-id-3 div.sk-text-repr-fallback {display: none;}</style><div id=\"sk-container-id-3\" class=\"sk-top-container\"><div class=\"sk-text-repr-fallback\"><pre>Pipeline(steps=[(&#x27;tfidf&#x27;, TfidfVectorizer(ngram_range=(1, 2))),\n",
       "                (&#x27;clf&#x27;, LinearSVC())])</pre><b>In a Jupyter environment, please rerun this cell to show the HTML representation or trust the notebook. <br />On GitHub, the HTML representation is unable to render, please try loading this page with nbviewer.org.</b></div><div class=\"sk-container\" hidden><div class=\"sk-item sk-dashed-wrapped\"><div class=\"sk-label-container\"><div class=\"sk-label sk-toggleable\"><input class=\"sk-toggleable__control sk-hidden--visually\" id=\"sk-estimator-id-7\" type=\"checkbox\" ><label for=\"sk-estimator-id-7\" class=\"sk-toggleable__label sk-toggleable__label-arrow\">Pipeline</label><div class=\"sk-toggleable__content\"><pre>Pipeline(steps=[(&#x27;tfidf&#x27;, TfidfVectorizer(ngram_range=(1, 2))),\n",
       "                (&#x27;clf&#x27;, LinearSVC())])</pre></div></div></div><div class=\"sk-serial\"><div class=\"sk-item\"><div class=\"sk-estimator sk-toggleable\"><input class=\"sk-toggleable__control sk-hidden--visually\" id=\"sk-estimator-id-8\" type=\"checkbox\" ><label for=\"sk-estimator-id-8\" class=\"sk-toggleable__label sk-toggleable__label-arrow\">TfidfVectorizer</label><div class=\"sk-toggleable__content\"><pre>TfidfVectorizer(ngram_range=(1, 2))</pre></div></div></div><div class=\"sk-item\"><div class=\"sk-estimator sk-toggleable\"><input class=\"sk-toggleable__control sk-hidden--visually\" id=\"sk-estimator-id-9\" type=\"checkbox\" ><label for=\"sk-estimator-id-9\" class=\"sk-toggleable__label sk-toggleable__label-arrow\">LinearSVC</label><div class=\"sk-toggleable__content\"><pre>LinearSVC()</pre></div></div></div></div></div></div></div>"
      ],
      "text/plain": [
       "Pipeline(steps=[('tfidf', TfidfVectorizer(ngram_range=(1, 2))),\n",
       "                ('clf', LinearSVC())])"
      ]
     },
     "execution_count": 135,
     "metadata": {},
     "output_type": "execute_result"
    }
   ],
   "source": [
    "# Creating another pipeline\n",
    "pipeline = Pipeline([\n",
    "    ('tfidf', vectorizer),\n",
    "    ('clf', linear_svc)\n",
    "])\n",
    "\n",
    "# Train the model\n",
    "pipeline.fit(X_train, y_train)"
   ]
  },
  {
   "cell_type": "code",
   "execution_count": 136,
   "id": "003c78e2",
   "metadata": {},
   "outputs": [
    {
     "name": "stdout",
     "output_type": "stream",
     "text": [
      "Pipeline saved successfully!\n"
     ]
    }
   ],
   "source": [
    "import pickle\n",
    "# Saving the pipeline\n",
    "with open('pipeline.pkl', 'wb') as f:\n",
    "    pickle.dump(pipeline, f)\n",
    "\n",
    "print(\"Pipeline saved successfully!\")"
   ]
  },
  {
   "cell_type": "code",
   "execution_count": 137,
   "id": "70e10a53",
   "metadata": {},
   "outputs": [],
   "source": [
    "# Make predictions\n",
    "y_pred = pipeline.predict(X_test)\n",
    "# I used a decision function becuase by default Linear SCV does not provide probability esitimates\n",
    "y_decision = pipeline.decision_function(X_test)\n"
   ]
  },
  {
   "cell_type": "code",
   "execution_count": 138,
   "id": "fca685e1",
   "metadata": {},
   "outputs": [
    {
     "name": "stdout",
     "output_type": "stream",
     "text": [
      "Accuracy: 0.9111830591529576\n",
      "              precision    recall  f1-score   support\n",
      "\n",
      "           0       0.91      0.91      0.91     40010\n",
      "           1       0.91      0.91      0.91     39986\n",
      "\n",
      "    accuracy                           0.91     79996\n",
      "   macro avg       0.91      0.91      0.91     79996\n",
      "weighted avg       0.91      0.91      0.91     79996\n",
      "\n"
     ]
    },
    {
     "data": {
      "image/png": "[encoded data removed]",
      "text/plain": [
       "<Figure size 640x480 with 2 Axes>"
      ]
     },
     "metadata": {},
     "output_type": "display_data"
    }
   ],
   "source": [
    "# Evaluate the model\n",
    "print(\"Accuracy:\", pipeline.score(X_test, y_test))\n",
    "print(classification_report(y_test, y_pred))\n",
    "\n",
    "# Generate confusion matrix\n",
    "cm = confusion_matrix(y_test, y_pred, labels=[0, 1])\n",
    "\n",
    "# Display confusion matrix\n",
    "disp = ConfusionMatrixDisplay(confusion_matrix=cm, display_labels=['Negative', 'Positive'])\n",
    "disp.plot()\n",
    "plt.title(\"Confusion Matrix\")\n",
    "plt.show()"
   ]
  },
  {
   "cell_type": "code",
   "execution_count": 139,
   "id": "a60136b0",
   "metadata": {},
   "outputs": [],
   "source": [
    "# Ok based on these results i can see that the LinearSVC is performing better than the logistic regression model \n",
    "# As more true positive and negative review are correctly predicted by the model and fewer incorrect positive and negative \n",
    "# compaired to the logistic regression model"
   ]
  },
  {
   "cell_type": "code",
   "execution_count": 140,
   "id": "919a39f0",
   "metadata": {},
   "outputs": [
    {
     "name": "stdout",
     "output_type": "stream",
     "text": [
      "ROC AUC Score: 0.9697652213765946\n"
     ]
    }
   ],
   "source": [
    "# now for further evaluation i want to see the ROC AUC score to see how the model's ability to distinguish between\n",
    "# positive and negative classes\n",
    "print(\"ROC AUC Score:\", roc_auc_score(y_test, y_decision))"
   ]
  },
  {
   "cell_type": "code",
   "execution_count": 141,
   "id": "c6dc1f82",
   "metadata": {},
   "outputs": [],
   "source": [
    "# Loading the saved model to run a sentiment prediction to allow the user to enter a phrase and the model will evaluate \n",
    "# Wheather the phrase(review) is positive or negative"
   ]
  },
  {
   "cell_type": "code",
   "execution_count": 146,
   "id": "0185049e",
   "metadata": {},
   "outputs": [
    {
     "name": "stdout",
     "output_type": "stream",
     "text": [
      "Enter a review phrase: The phone was an excellent purchase\n",
      "The review is Positive\n"
     ]
    }
   ],
   "source": [
    "import pickle\n",
    "\n",
    "# Load the saved pipeline\n",
    "with open('pipeline.pkl', 'rb') as f:\n",
    "    pipeline = pickle.load(f)\n",
    "\n",
    "# Created a function to predict sentiment\n",
    "def predict_sentiment(review_text):\n",
    "    prediction = pipeline.predict([review_text])\n",
    "    return 'Positive' if prediction == 1 else 'Negative'\n",
    "\n",
    "# Please sir enter an input a phrase\n",
    "phrase = input(\"Enter a review phrase: \")\n",
    "sentiment = predict_sentiment(phrase)\n",
    "print(f\"The review is {sentiment}\")\n",
    "\n"
   ]
  },
  {
   "cell_type": "code",
   "execution_count": null,
   "id": "014dde68",
   "metadata": {},
   "outputs": [],
   "source": []
  },
  {
   "cell_type": "code",
   "execution_count": null,
   "id": "cd2fdbdb",
   "metadata": {},
   "outputs": [],
   "source": []
  }
 ],
 "metadata": {
  "kernelspec": {
   "display_name": "Python 3 (ipykernel)",
   "language": "python",
   "name": "python3"
  },
  "language_info": {
   "codemirror_mode": {
    "name": "ipython",
    "version": 3
   },
   "file_extension": ".py",
   "mimetype": "text/x-python",
   "name": "python",
   "nbconvert_exporter": "python",
   "pygments_lexer": "ipython3",
   "version": "3.11.5"
  }
 },
 "nbformat": 4,
 "nbformat_minor": 5
}
